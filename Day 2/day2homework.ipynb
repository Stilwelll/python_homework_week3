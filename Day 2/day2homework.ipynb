{
 "cells": [
  {
   "cell_type": "markdown",
   "metadata": {},
   "source": [
    "#### Exercise 1 - Class Inheritance"
   ]
  },
  {
   "cell_type": "markdown",
   "metadata": {},
   "source": [
    "Create an Employee class that sets an employee's first name, last name, job title, salary, and email. The Employee class should have a class attribute for the raise amount set to 5% (1.05). Create a method that will apply the raise to an employee's salary."
   ]
  },
  {
   "cell_type": "markdown",
   "metadata": {},
   "source": [
    "Create two more classes that inherit from the Employee class. One for Sales and one for Development. Both of these classes will have the same attributes as the Employee.<br>\n",
    "- For the Sales employees, add a phone number attribute on instantiation using the super method. \n",
    "- Create a method on the Sales class that will Send a Follow Up Email. It should take in a customer name and \"send\" aka print a formatted email \"Dear *customer*, Thank you for your interest in our product. Please let me know if you have any questions. My email is *email* or my phone number is *phone number*. Thanks, *full name*\"\n",
    "- Create a method on the Development class called code that will print out \"*full name* is writing code\"."
   ]
  },
  {
   "cell_type": "markdown",
   "metadata": {},
   "source": [
    "- Create an instance of a Sales Employee with a salary of $50,000.\n",
    "- Send follow up emails to \"Mike O'Neil\" and \"Hannah Stern\"\n",
    "- Give the employee a raise and print the salary"
   ]
  },
  {
   "cell_type": "markdown",
   "metadata": {},
   "source": [
    "- Create an instance of a Development Employee with a salary of $100,000\n",
    "- Write some code with this employee\n",
    "- Give the employee a raise and print the salary"
   ]
  },
  {
   "cell_type": "code",
   "execution_count": 1,
   "metadata": {},
   "outputs": [
    {
     "name": "stdout",
     "output_type": "stream",
     "text": [
      "-------------------------------\n",
      "Dear Mike O'Neil,\n",
      "Thank you for your interest in our product. Please let me know if you have any questions.\n",
      "My email is johndone@management.co or my phone number is (123) 456-7890. Thanks, John Done.\n",
      "-------------------------------\n",
      "-------------------------------\n",
      "Dear Hannah Stern,\n",
      "Thank you for your interest in our product. Please let me know if you have any questions.\n",
      "My email is johndone@management.co or my phone number is (123) 456-7890. Thanks, John Done.\n",
      "-------------------------------\n",
      "52500.0\n",
      "Alex Baker is coding at this time\n",
      "105000.0\n"
     ]
    }
   ],
   "source": [
    "class Employee:\n",
    "    raise_amount = 1.05\n",
    "    \n",
    "    def __init__(self, first_name, last_name, job_title, salary, email):\n",
    "        self.first_name = first_name\n",
    "        self.last_name = last_name\n",
    "        self.job_title = job_title\n",
    "        self.salary = salary\n",
    "        self.email = email\n",
    "\n",
    "    def emp_raise(self):\n",
    "        self.salary = self.salary * self.raise_amount\n",
    "\n",
    "class Sales(Employee):\n",
    "\n",
    "    def __init__(self, first_name, last_name, job_title, salary, email, phone_number):\n",
    "        self.phone_number = phone_number\n",
    "        super().__init__(first_name, last_name, job_title, salary, email)\n",
    "    \n",
    "    def follow_up(self, customer_name):\n",
    "        self.customer_name = customer_name\n",
    "        self.phone_number = self.phone_number\n",
    "        self.first_name = self.first_name\n",
    "        self.last_name = self.last_name\n",
    "        self.full_name = self.first_name + \" \" + self.last_name\n",
    "        print(\"-------------------------------\")\n",
    "        print(f\"Dear {customer_name},\\nThank you for your interest in our product. Please let me know if you have any questions.\\nMy email is {self.email} or my phone number is {self.phone_number}. Thanks, {self.full_name}.\")\n",
    "        print(\"-------------------------------\")\n",
    "\n",
    "class Development(Employee):\n",
    "\n",
    "    def __init__(self, first_name, last_name, job_title, salary, email):\n",
    "        super().__init__(first_name, last_name, job_title, salary, email)\n",
    "\n",
    "    def is_coding(self):\n",
    "        self.first_name = self.first_name\n",
    "        self.last_name = self.last_name\n",
    "        self.full_name = self.first_name + \" \" + self.last_name\n",
    "        print(f\"{self.full_name} is coding at this time\")\n",
    "\n",
    "    \n",
    "\n",
    "\n",
    "emp_1 = Employee(\"John\", \"Doe\", \"Manager\", 60000, \"johndoe@management.co\")\n",
    "emp_2 = Sales(\"John\", \"Done\", \"Manager\", 50000, \"johndone@management.co\", \"(123) 456-7890\")\n",
    "emp_3 = Development(\"Alex\", \"Baker\", \"Manager\", 100000, \"johndone@management.co\")\n",
    "emp_2.follow_up(\"Mike O'Neil\")\n",
    "emp_2.follow_up(\"Hannah Stern\")\n",
    "emp_2.emp_raise()\n",
    "print(emp_2.salary)\n",
    "emp_3.is_coding()\n",
    "emp_3.emp_raise()\n",
    "print(emp_3.salary)"
   ]
  },
  {
   "cell_type": "markdown",
   "metadata": {},
   "source": [
    "#### Exercise 2 - Importing Modules"
   ]
  },
  {
   "cell_type": "markdown",
   "metadata": {},
   "source": [
    "In VS Code, create a module titled `geometry` and add two functions in there. One that will calculate the area of a circle given a radius. The second will find the hypotenuse of a right angle given the two sides. Import the module or the functions from the module and use it to find the answers to the below questions"
   ]
  },
  {
   "cell_type": "markdown",
   "metadata": {},
   "source": [
    "What is the area of a circle with a radius of 7cm?"
   ]
  },
  {
   "cell_type": "code",
   "execution_count": 53,
   "metadata": {},
   "outputs": [
    {
     "name": "stdout",
     "output_type": "stream",
     "text": [
      "50.26548245743669\n"
     ]
    }
   ],
   "source": [
    "import geometry_module as geometry\n",
    "\n",
    "geometry.circle_calc(4)"
   ]
  },
  {
   "cell_type": "markdown",
   "metadata": {},
   "source": [
    "What is the hypotenuse of a right angle with sides of 3in and 4in?"
   ]
  },
  {
   "cell_type": "code",
   "execution_count": 24,
   "metadata": {},
   "outputs": [
    {
     "ename": "AttributeError",
     "evalue": "module 'geometry' has no attribute 'hyp_calc'",
     "output_type": "error",
     "traceback": [
      "\u001b[1;31m---------------------------------------------------------------------------\u001b[0m",
      "\u001b[1;31mAttributeError\u001b[0m                            Traceback (most recent call last)",
      "\u001b[1;32m~\\AppData\\Local\\Temp/ipykernel_636/4191482140.py\u001b[0m in \u001b[0;36m<module>\u001b[1;34m\u001b[0m\n\u001b[0;32m      1\u001b[0m \u001b[1;32mimport\u001b[0m \u001b[0mgeometry\u001b[0m\u001b[1;33m\u001b[0m\u001b[1;33m\u001b[0m\u001b[0m\n\u001b[0;32m      2\u001b[0m \u001b[1;33m\u001b[0m\u001b[0m\n\u001b[1;32m----> 3\u001b[1;33m \u001b[0mprint\u001b[0m\u001b[1;33m(\u001b[0m\u001b[0mgeometry\u001b[0m\u001b[1;33m.\u001b[0m\u001b[0mhyp_calc\u001b[0m\u001b[1;33m(\u001b[0m\u001b[1;36m4\u001b[0m\u001b[1;33m,\u001b[0m \u001b[1;36m2\u001b[0m\u001b[1;33m)\u001b[0m\u001b[1;33m)\u001b[0m\u001b[1;33m\u001b[0m\u001b[1;33m\u001b[0m\u001b[0m\n\u001b[0m",
      "\u001b[1;31mAttributeError\u001b[0m: module 'geometry' has no attribute 'hyp_calc'"
     ]
    }
   ],
   "source": [
    "import geometry_module as geometry\n",
    "\n",
    "print(geometry.hyp_calc(4, 2))"
   ]
  },
  {
   "cell_type": "code",
   "execution_count": null,
   "metadata": {},
   "outputs": [],
   "source": []
  }
 ],
 "metadata": {
  "kernelspec": {
   "display_name": "Python 3 (ipykernel)",
   "language": "python",
   "name": "python3"
  },
  "language_info": {
   "codemirror_mode": {
    "name": "ipython",
    "version": 3
   },
   "file_extension": ".py",
   "mimetype": "text/x-python",
   "name": "python",
   "nbconvert_exporter": "python",
   "pygments_lexer": "ipython3",
   "version": "3.9.7"
  }
 },
 "nbformat": 4,
 "nbformat_minor": 4
}
